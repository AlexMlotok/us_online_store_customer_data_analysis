{
 "cells": [
  {
   "cell_type": "code",
   "execution_count": 1,
   "metadata": {
    "_cell_guid": "b1076dfc-b9ad-4769-8c92-a6c4dae69d19",
    "_uuid": "8f2839f25d086af736a60e9eeb907d3b93b6e0e5",
    "tags": []
   },
   "outputs": [],
   "source": [
    "# import necessary libraries\n",
    "import numpy as np\n",
    "import pandas as pd"
   ]
  },
  {
   "cell_type": "code",
   "execution_count": null,
   "metadata": {},
   "outputs": [],
   "source": []
  },
  {
   "cell_type": "code",
   "execution_count": null,
   "metadata": {
    "execution": {
     "iopub.execute_input": "2023-03-29T09:33:37.740445Z",
     "iopub.status.busy": "2023-03-29T09:33:37.739254Z",
     "iopub.status.idle": "2023-03-29T09:33:37.771852Z",
     "shell.execute_reply": "2023-03-29T09:33:37.770423Z",
     "shell.execute_reply.started": "2023-03-29T09:33:37.74038Z"
    }
   },
   "outputs": [],
   "source": [
    "# load the dataset\n",
    "df=pd.read_csv(\"/kaggle/input/online-store-customer-data/online_store_customer_data.csv\")"
   ]
  },
  {
   "cell_type": "code",
   "execution_count": null,
   "metadata": {
    "execution": {
     "iopub.execute_input": "2023-03-29T09:33:38.297492Z",
     "iopub.status.busy": "2023-03-29T09:33:38.296995Z",
     "iopub.status.idle": "2023-03-29T09:33:38.341707Z",
     "shell.execute_reply": "2023-03-29T09:33:38.340184Z",
     "shell.execute_reply.started": "2023-03-29T09:33:38.297449Z"
    }
   },
   "outputs": [],
   "source": [
    "# load 1st 5 rows\n",
    "df.head()"
   ]
  },
  {
   "cell_type": "code",
   "execution_count": null,
   "metadata": {
    "execution": {
     "iopub.execute_input": "2023-03-29T09:33:39.376186Z",
     "iopub.status.busy": "2023-03-29T09:33:39.374634Z",
     "iopub.status.idle": "2023-03-29T09:33:39.398074Z",
     "shell.execute_reply": "2023-03-29T09:33:39.396543Z",
     "shell.execute_reply.started": "2023-03-29T09:33:39.376115Z"
    }
   },
   "outputs": [],
   "source": [
    "# load last 5 rows\n",
    "df.tail()"
   ]
  },
  {
   "cell_type": "code",
   "execution_count": null,
   "metadata": {
    "execution": {
     "iopub.execute_input": "2023-03-29T09:33:49.42209Z",
     "iopub.status.busy": "2023-03-29T09:33:49.421415Z",
     "iopub.status.idle": "2023-03-29T09:33:49.431484Z",
     "shell.execute_reply": "2023-03-29T09:33:49.430025Z",
     "shell.execute_reply.started": "2023-03-29T09:33:49.422028Z"
    }
   },
   "outputs": [],
   "source": [
    "# determine the shape of data\n",
    "df.shape"
   ]
  },
  {
   "cell_type": "code",
   "execution_count": null,
   "metadata": {
    "execution": {
     "iopub.execute_input": "2023-03-29T09:33:52.825308Z",
     "iopub.status.busy": "2023-03-29T09:33:52.82457Z",
     "iopub.status.idle": "2023-03-29T09:33:52.835511Z",
     "shell.execute_reply": "2023-03-29T09:33:52.833822Z",
     "shell.execute_reply.started": "2023-03-29T09:33:52.825256Z"
    }
   },
   "outputs": [],
   "source": [
    "# determine the size of data\n",
    "df.size"
   ]
  },
  {
   "cell_type": "code",
   "execution_count": null,
   "metadata": {
    "execution": {
     "iopub.execute_input": "2023-03-29T09:33:58.154662Z",
     "iopub.status.busy": "2023-03-29T09:33:58.154171Z",
     "iopub.status.idle": "2023-03-29T09:33:58.165153Z",
     "shell.execute_reply": "2023-03-29T09:33:58.163383Z",
     "shell.execute_reply.started": "2023-03-29T09:33:58.154624Z"
    }
   },
   "outputs": [],
   "source": [
    "# check column names\n",
    "df.columns"
   ]
  },
  {
   "cell_type": "code",
   "execution_count": null,
   "metadata": {
    "execution": {
     "iopub.execute_input": "2023-03-29T09:42:11.864882Z",
     "iopub.status.busy": "2023-03-29T09:42:11.864328Z",
     "iopub.status.idle": "2023-03-29T09:42:11.883043Z",
     "shell.execute_reply": "2023-03-29T09:42:11.88126Z",
     "shell.execute_reply.started": "2023-03-29T09:42:11.864831Z"
    }
   },
   "outputs": [],
   "source": [
    "# checking null values\n",
    "df.isnull().sum()"
   ]
  },
  {
   "cell_type": "code",
   "execution_count": null,
   "metadata": {
    "execution": {
     "iopub.execute_input": "2023-03-29T09:44:26.106341Z",
     "iopub.status.busy": "2023-03-29T09:44:26.105866Z",
     "iopub.status.idle": "2023-03-29T09:44:26.117596Z",
     "shell.execute_reply": "2023-03-29T09:44:26.116291Z",
     "shell.execute_reply.started": "2023-03-29T09:44:26.106299Z"
    }
   },
   "outputs": [],
   "source": [
    "# dropping null values\n",
    "df.dropna(inplace=True)"
   ]
  },
  {
   "cell_type": "code",
   "execution_count": null,
   "metadata": {
    "execution": {
     "iopub.execute_input": "2023-03-29T09:44:28.639048Z",
     "iopub.status.busy": "2023-03-29T09:44:28.638118Z",
     "iopub.status.idle": "2023-03-29T09:44:28.647001Z",
     "shell.execute_reply": "2023-03-29T09:44:28.645854Z",
     "shell.execute_reply.started": "2023-03-29T09:44:28.639Z"
    }
   },
   "outputs": [],
   "source": [
    "# checking change in shape after dropping null values\n",
    "df.shape"
   ]
  },
  {
   "cell_type": "code",
   "execution_count": null,
   "metadata": {
    "execution": {
     "iopub.execute_input": "2023-03-29T09:44:33.158336Z",
     "iopub.status.busy": "2023-03-29T09:44:33.157805Z",
     "iopub.status.idle": "2023-03-29T09:44:33.167455Z",
     "shell.execute_reply": "2023-03-29T09:44:33.166159Z",
     "shell.execute_reply.started": "2023-03-29T09:44:33.158295Z"
    }
   },
   "outputs": [],
   "source": [
    "# checking change in size after dropping null values\n",
    "df.size"
   ]
  },
  {
   "cell_type": "code",
   "execution_count": null,
   "metadata": {
    "execution": {
     "iopub.execute_input": "2023-03-29T09:44:51.902833Z",
     "iopub.status.busy": "2023-03-29T09:44:51.902304Z",
     "iopub.status.idle": "2023-03-29T09:44:51.92848Z",
     "shell.execute_reply": "2023-03-29T09:44:51.92668Z",
     "shell.execute_reply.started": "2023-03-29T09:44:51.902785Z"
    }
   },
   "outputs": [],
   "source": [
    "# checking duplicate values\n",
    "df.duplicated().value_counts()"
   ]
  },
  {
   "cell_type": "code",
   "execution_count": null,
   "metadata": {
    "execution": {
     "iopub.execute_input": "2023-03-29T09:45:54.372822Z",
     "iopub.status.busy": "2023-03-29T09:45:54.372301Z",
     "iopub.status.idle": "2023-03-29T09:45:54.385067Z",
     "shell.execute_reply": "2023-03-29T09:45:54.38378Z",
     "shell.execute_reply.started": "2023-03-29T09:45:54.372776Z"
    }
   },
   "outputs": [],
   "source": [
    "# dropping duplicate values\n",
    "df.drop_duplicates(inplace=True)"
   ]
  },
  {
   "cell_type": "code",
   "execution_count": null,
   "metadata": {
    "execution": {
     "iopub.execute_input": "2023-03-29T09:46:10.554509Z",
     "iopub.status.busy": "2023-03-29T09:46:10.553957Z",
     "iopub.status.idle": "2023-03-29T09:46:10.569888Z",
     "shell.execute_reply": "2023-03-29T09:46:10.568872Z",
     "shell.execute_reply.started": "2023-03-29T09:46:10.554467Z"
    }
   },
   "outputs": [],
   "source": [
    "# checking the count after dropping duplicate values\n",
    "df.duplicated().value_counts()"
   ]
  },
  {
   "cell_type": "code",
   "execution_count": null,
   "metadata": {
    "execution": {
     "iopub.execute_input": "2023-03-29T10:05:15.386553Z",
     "iopub.status.busy": "2023-03-29T10:05:15.38516Z",
     "iopub.status.idle": "2023-03-29T10:05:15.396247Z",
     "shell.execute_reply": "2023-03-29T10:05:15.394414Z",
     "shell.execute_reply.started": "2023-03-29T10:05:15.386489Z"
    }
   },
   "outputs": [],
   "source": [
    "# checking the change in shape after dropping the duplicate values\n",
    "df.shape"
   ]
  },
  {
   "cell_type": "code",
   "execution_count": null,
   "metadata": {
    "execution": {
     "iopub.execute_input": "2023-03-29T10:06:07.811455Z",
     "iopub.status.busy": "2023-03-29T10:06:07.810784Z",
     "iopub.status.idle": "2023-03-29T10:06:07.821932Z",
     "shell.execute_reply": "2023-03-29T10:06:07.820555Z",
     "shell.execute_reply.started": "2023-03-29T10:06:07.811394Z"
    }
   },
   "outputs": [],
   "source": [
    "# checking the change in size after dropping the duplicate values\n",
    "df.size"
   ]
  },
  {
   "cell_type": "code",
   "execution_count": null,
   "metadata": {
    "execution": {
     "iopub.execute_input": "2023-03-29T09:46:16.910974Z",
     "iopub.status.busy": "2023-03-29T09:46:16.910229Z",
     "iopub.status.idle": "2023-03-29T09:46:16.942063Z",
     "shell.execute_reply": "2023-03-29T09:46:16.940196Z",
     "shell.execute_reply.started": "2023-03-29T09:46:16.910896Z"
    }
   },
   "outputs": [],
   "source": [
    "# determining the datatypes\n",
    "df.info()"
   ]
  },
  {
   "cell_type": "code",
   "execution_count": null,
   "metadata": {
    "execution": {
     "iopub.execute_input": "2023-03-29T09:47:39.099763Z",
     "iopub.status.busy": "2023-03-29T09:47:39.099218Z",
     "iopub.status.idle": "2023-03-29T09:47:39.532462Z",
     "shell.execute_reply": "2023-03-29T09:47:39.531279Z",
     "shell.execute_reply.started": "2023-03-29T09:47:39.099718Z"
    }
   },
   "outputs": [],
   "source": [
    "# changing the datatype of date from object to datetime\n",
    "df['Transaction_date']=df['Transaction_date'].apply(pd.to_datetime)"
   ]
  },
  {
   "cell_type": "code",
   "execution_count": null,
   "metadata": {
    "execution": {
     "iopub.execute_input": "2023-03-29T09:53:28.265226Z",
     "iopub.status.busy": "2023-03-29T09:53:28.264712Z",
     "iopub.status.idle": "2023-03-29T09:53:28.276445Z",
     "shell.execute_reply": "2023-03-29T09:53:28.274293Z",
     "shell.execute_reply.started": "2023-03-29T09:53:28.265182Z"
    }
   },
   "outputs": [],
   "source": [
    "# changing the datatype of age and referal from float to integer\n",
    "df['Age']=df['Age'].astype(int)\n",
    "df['Referal']=df['Referal'].astype(int)"
   ]
  },
  {
   "cell_type": "code",
   "execution_count": null,
   "metadata": {
    "execution": {
     "iopub.execute_input": "2023-03-29T09:53:30.772397Z",
     "iopub.status.busy": "2023-03-29T09:53:30.771838Z",
     "iopub.status.idle": "2023-03-29T09:53:30.794254Z",
     "shell.execute_reply": "2023-03-29T09:53:30.792599Z",
     "shell.execute_reply.started": "2023-03-29T09:53:30.772352Z"
    }
   },
   "outputs": [],
   "source": [
    "# checking the change in datatypes\n",
    "df.info()"
   ]
  },
  {
   "cell_type": "code",
   "execution_count": null,
   "metadata": {
    "execution": {
     "iopub.execute_input": "2023-03-29T09:53:45.824226Z",
     "iopub.status.busy": "2023-03-29T09:53:45.823491Z",
     "iopub.status.idle": "2023-03-29T09:53:45.844723Z",
     "shell.execute_reply": "2023-03-29T09:53:45.843332Z",
     "shell.execute_reply.started": "2023-03-29T09:53:45.824176Z"
    }
   },
   "outputs": [],
   "source": [
    "# checking the change in values of dataset\n",
    "df.head()"
   ]
  },
  {
   "cell_type": "code",
   "execution_count": null,
   "metadata": {
    "execution": {
     "iopub.execute_input": "2023-03-29T09:57:52.397745Z",
     "iopub.status.busy": "2023-03-29T09:57:52.39719Z",
     "iopub.status.idle": "2023-03-29T09:57:52.422039Z",
     "shell.execute_reply": "2023-03-29T09:57:52.420395Z",
     "shell.execute_reply.started": "2023-03-29T09:57:52.397676Z"
    }
   },
   "outputs": [],
   "source": [
    "# statistical summary of age and amount_spent\n",
    "df.drop(columns=['Transaction_ID', 'Referal']).describe()"
   ]
  },
  {
   "cell_type": "code",
   "execution_count": null,
   "metadata": {
    "execution": {
     "iopub.execute_input": "2023-03-29T10:20:40.104714Z",
     "iopub.status.busy": "2023-03-29T10:20:40.104044Z",
     "iopub.status.idle": "2023-03-29T10:20:40.124156Z",
     "shell.execute_reply": "2023-03-29T10:20:40.122873Z",
     "shell.execute_reply.started": "2023-03-29T10:20:40.104632Z"
    }
   },
   "outputs": [],
   "source": [
    "# checking the unique values in each column\n",
    "df.nunique()"
   ]
  },
  {
   "cell_type": "code",
   "execution_count": null,
   "metadata": {
    "execution": {
     "iopub.execute_input": "2023-03-29T10:37:28.150913Z",
     "iopub.status.busy": "2023-03-29T10:37:28.149762Z",
     "iopub.status.idle": "2023-03-29T10:37:28.159135Z",
     "shell.execute_reply": "2023-03-29T10:37:28.157443Z",
     "shell.execute_reply.started": "2023-03-29T10:37:28.150848Z"
    }
   },
   "outputs": [],
   "source": [
    "# correcting the index\n",
    "df.reset_index(inplace=True)"
   ]
  },
  {
   "cell_type": "code",
   "execution_count": null,
   "metadata": {
    "execution": {
     "iopub.execute_input": "2023-03-29T11:13:57.634675Z",
     "iopub.status.busy": "2023-03-29T11:13:57.634181Z",
     "iopub.status.idle": "2023-03-29T11:13:57.642723Z",
     "shell.execute_reply": "2023-03-29T11:13:57.641413Z",
     "shell.execute_reply.started": "2023-03-29T11:13:57.634635Z"
    }
   },
   "outputs": [],
   "source": [
    "df.drop(columns=['index', 'Transaction_ID'], inplace=True)"
   ]
  },
  {
   "cell_type": "code",
   "execution_count": null,
   "metadata": {
    "execution": {
     "iopub.execute_input": "2023-03-29T11:14:01.930875Z",
     "iopub.status.busy": "2023-03-29T11:14:01.930344Z",
     "iopub.status.idle": "2023-03-29T11:14:01.937521Z",
     "shell.execute_reply": "2023-03-29T11:14:01.936065Z",
     "shell.execute_reply.started": "2023-03-29T11:14:01.930833Z"
    }
   },
   "outputs": [],
   "source": [
    "# data visualisation libraries\n",
    "import matplotlib.pyplot as plt\n",
    "import seaborn as sns\n",
    "import plotly.express as px"
   ]
  },
  {
   "cell_type": "code",
   "execution_count": null,
   "metadata": {
    "execution": {
     "iopub.execute_input": "2023-03-29T11:14:04.615032Z",
     "iopub.status.busy": "2023-03-29T11:14:04.614183Z",
     "iopub.status.idle": "2023-03-29T11:14:05.054771Z",
     "shell.execute_reply": "2023-03-29T11:14:05.053231Z",
     "shell.execute_reply.started": "2023-03-29T11:14:04.614978Z"
    }
   },
   "outputs": [],
   "source": [
    "# Univariate analysis for Transaction_date\n",
    "plt.figure(figsize=(10, 6))\n",
    "sns.histplot(data=df, x=\"Transaction_date\", color='red', bins=30)\n",
    "plt.xlabel(\"Transaction Date\")\n",
    "plt.ylabel(\"Frequency\")\n",
    "plt.title(\"Distribution of Transactions by Date\")"
   ]
  },
  {
   "cell_type": "code",
   "execution_count": null,
   "metadata": {
    "execution": {
     "iopub.execute_input": "2023-03-29T11:14:05.057951Z",
     "iopub.status.busy": "2023-03-29T11:14:05.056992Z",
     "iopub.status.idle": "2023-03-29T11:14:05.385271Z",
     "shell.execute_reply": "2023-03-29T11:14:05.38384Z",
     "shell.execute_reply.started": "2023-03-29T11:14:05.05789Z"
    }
   },
   "outputs": [],
   "source": [
    "# Univariate analysis for Age\n",
    "plt.figure(figsize=(10, 6))\n",
    "sns.histplot(data=df, x=\"Age\", color='green', bins=30)\n",
    "plt.xlabel(\"Age\")\n",
    "plt.ylabel(\"Frequency\")\n",
    "plt.title(\"Distribution of Customers by Age\")"
   ]
  },
  {
   "cell_type": "code",
   "execution_count": null,
   "metadata": {
    "execution": {
     "iopub.execute_input": "2023-03-29T11:14:05.760901Z",
     "iopub.status.busy": "2023-03-29T11:14:05.76038Z",
     "iopub.status.idle": "2023-03-29T11:14:05.937466Z",
     "shell.execute_reply": "2023-03-29T11:14:05.935733Z",
     "shell.execute_reply.started": "2023-03-29T11:14:05.760858Z"
    }
   },
   "outputs": [],
   "source": [
    "# Univariate analysis for Marital_status\n",
    "plt.figure(figsize=(6, 6))\n",
    "sns.countplot(data=df, x=\"Marital_status\")\n",
    "plt.xlabel(\"Marital Status\")\n",
    "plt.ylabel(\"Count\")\n",
    "plt.title(\"Distribution of Customers by Marital Status\")"
   ]
  },
  {
   "cell_type": "code",
   "execution_count": null,
   "metadata": {
    "execution": {
     "iopub.execute_input": "2023-03-29T11:14:06.894998Z",
     "iopub.status.busy": "2023-03-29T11:14:06.894207Z",
     "iopub.status.idle": "2023-03-29T11:14:07.870661Z",
     "shell.execute_reply": "2023-03-29T11:14:07.868811Z",
     "shell.execute_reply.started": "2023-03-29T11:14:06.894954Z"
    }
   },
   "outputs": [],
   "source": [
    "# Univariate analysis for State_names\n",
    "plt.figure(figsize=(10, 6))\n",
    "sns.countplot(data=df, x=\"State_names\")\n",
    "plt.xticks(rotation=90)\n",
    "plt.xlabel(\"State\")\n",
    "plt.ylabel(\"Count\")\n",
    "plt.title(\"Distribution of Customers by State\")"
   ]
  },
  {
   "cell_type": "code",
   "execution_count": null,
   "metadata": {
    "execution": {
     "iopub.execute_input": "2023-03-29T11:14:07.896048Z",
     "iopub.status.busy": "2023-03-29T11:14:07.895493Z",
     "iopub.status.idle": "2023-03-29T11:14:08.121664Z",
     "shell.execute_reply": "2023-03-29T11:14:08.120362Z",
     "shell.execute_reply.started": "2023-03-29T11:14:07.896004Z"
    }
   },
   "outputs": [],
   "source": [
    "# Univariate analysis for Gender\n",
    "plt.figure(figsize=(6, 6))\n",
    "sns.countplot(data=df, x=\"Gender\")\n",
    "plt.xlabel(\"Gender\")\n",
    "plt.ylabel(\"Count\")\n",
    "plt.title(\"Distribution of Customers by Gender\")"
   ]
  },
  {
   "cell_type": "code",
   "execution_count": null,
   "metadata": {
    "execution": {
     "iopub.execute_input": "2023-03-29T11:14:08.639619Z",
     "iopub.status.busy": "2023-03-29T11:14:08.638725Z",
     "iopub.status.idle": "2023-03-29T11:14:08.889222Z",
     "shell.execute_reply": "2023-03-29T11:14:08.887806Z",
     "shell.execute_reply.started": "2023-03-29T11:14:08.639564Z"
    }
   },
   "outputs": [],
   "source": [
    "# Univariate analysis for Segment\n",
    "plt.figure(figsize=(6, 6))\n",
    "sns.countplot(data=df, x=\"Segment\")\n",
    "plt.xlabel(\"Segment\")\n",
    "plt.ylabel(\"Count\")\n",
    "plt.title(\"Distribution of Customers by Segment\")"
   ]
  },
  {
   "cell_type": "code",
   "execution_count": null,
   "metadata": {
    "execution": {
     "iopub.execute_input": "2023-03-29T11:14:09.085499Z",
     "iopub.status.busy": "2023-03-29T11:14:09.08499Z",
     "iopub.status.idle": "2023-03-29T11:14:09.362049Z",
     "shell.execute_reply": "2023-03-29T11:14:09.360454Z",
     "shell.execute_reply.started": "2023-03-29T11:14:09.085456Z"
    }
   },
   "outputs": [],
   "source": [
    "# Univariate analysis for Employees_status\n",
    "plt.figure(figsize=(6, 6))\n",
    "sns.countplot(data=df, x=\"Employees_status\")\n",
    "plt.xlabel(\"Employment Status\")\n",
    "plt.ylabel(\"Count\")\n",
    "plt.title(\"Distribution of Customers by Employment Status\")"
   ]
  },
  {
   "cell_type": "code",
   "execution_count": null,
   "metadata": {
    "execution": {
     "iopub.execute_input": "2023-03-29T11:14:09.497465Z",
     "iopub.status.busy": "2023-03-29T11:14:09.496454Z",
     "iopub.status.idle": "2023-03-29T11:14:09.729949Z",
     "shell.execute_reply": "2023-03-29T11:14:09.728469Z",
     "shell.execute_reply.started": "2023-03-29T11:14:09.497407Z"
    }
   },
   "outputs": [],
   "source": [
    "# Univariate analysis for Payment_method\n",
    "plt.figure(figsize=(6, 6))\n",
    "sns.countplot(data=df, x=\"Payment_method\")\n",
    "plt.xlabel(\"Payment Method\")\n",
    "plt.ylabel(\"Count\")\n",
    "plt.title(\"Distribution of Transactions by Payment Method\")"
   ]
  },
  {
   "cell_type": "code",
   "execution_count": null,
   "metadata": {
    "execution": {
     "iopub.execute_input": "2023-03-29T11:14:09.937673Z",
     "iopub.status.busy": "2023-03-29T11:14:09.936034Z",
     "iopub.status.idle": "2023-03-29T11:14:10.17324Z",
     "shell.execute_reply": "2023-03-29T11:14:10.171783Z",
     "shell.execute_reply.started": "2023-03-29T11:14:09.937584Z"
    }
   },
   "outputs": [],
   "source": [
    "# Univariate analysis for Referal\n",
    "plt.figure(figsize=(6, 6))\n",
    "sns.countplot(data=df, x=\"Referal\")\n",
    "plt.xlabel(\"Referral\")\n",
    "plt.ylabel(\"Count\")\n",
    "plt.title(\"Distribution of Transactions by Referral\")"
   ]
  },
  {
   "cell_type": "code",
   "execution_count": null,
   "metadata": {
    "execution": {
     "iopub.execute_input": "2023-03-29T12:30:40.675778Z",
     "iopub.status.busy": "2023-03-29T12:30:40.674533Z",
     "iopub.status.idle": "2023-03-29T12:30:41.042886Z",
     "shell.execute_reply": "2023-03-29T12:30:41.041452Z",
     "shell.execute_reply.started": "2023-03-29T12:30:40.675715Z"
    }
   },
   "outputs": [],
   "source": [
    "# Univariate analysis for Amount_spent\n",
    "plt.figure(figsize=(10, 6))\n",
    "sns.histplot(data=df, x=\"Amount_spent\", color='violet', bins=30)\n",
    "plt.xlabel(\"Amount Spent\")\n",
    "plt.ylabel(\"Frequency\")\n",
    "plt.title(\"Distribution of Transactions by Amount Spent\")"
   ]
  },
  {
   "cell_type": "code",
   "execution_count": null,
   "metadata": {
    "execution": {
     "iopub.execute_input": "2023-03-29T11:54:09.43334Z",
     "iopub.status.busy": "2023-03-29T11:54:09.431788Z",
     "iopub.status.idle": "2023-03-29T11:54:09.698621Z",
     "shell.execute_reply": "2023-03-29T11:54:09.697265Z",
     "shell.execute_reply.started": "2023-03-29T11:54:09.433247Z"
    }
   },
   "outputs": [],
   "source": [
    "# BIVARIATE ANALYSIS OF segment and marital status\n",
    "# Group the data by segment, and calculate the count of each marital status group\n",
    "grouped = df.groupby(['Segment'])['Marital_status'].value_counts().unstack(fill_value=0)\n",
    "\n",
    "# Plot the stacked bar chart\n",
    "grouped.plot(kind='bar', stacked=True)\n",
    "\n",
    "# Add axis labels and title\n",
    "plt.xlabel('Segment')\n",
    "plt.ylabel('Count')\n",
    "plt.title('Segment Distribution by Marital Status')\n",
    "\n",
    "# Show the plot\n",
    "plt.show()"
   ]
  },
  {
   "cell_type": "code",
   "execution_count": null,
   "metadata": {
    "execution": {
     "iopub.execute_input": "2023-03-29T12:22:40.309412Z",
     "iopub.status.busy": "2023-03-29T12:22:40.308904Z",
     "iopub.status.idle": "2023-03-29T12:22:40.570608Z",
     "shell.execute_reply": "2023-03-29T12:22:40.569427Z",
     "shell.execute_reply.started": "2023-03-29T12:22:40.309369Z"
    }
   },
   "outputs": [],
   "source": [
    "# BIVARIATE ANALYSIS OF segment and gender\n",
    "# Group the data by segment, and calculate the count of each gender group\n",
    "grouped = df.groupby(['Segment'])['Gender'].value_counts().unstack(fill_value=0)\n",
    "\n",
    "# Plot the stacked bar chart\n",
    "grouped.plot(kind='bar', color=['orange', 'green'], stacked=True)\n",
    "\n",
    "# Add axis labels and title\n",
    "plt.xlabel('Segment')\n",
    "plt.ylabel('Count')\n",
    "plt.title('Segment Distribution by Gender')\n",
    "\n",
    "# Show the plot\n",
    "plt.show()"
   ]
  },
  {
   "cell_type": "code",
   "execution_count": null,
   "metadata": {
    "execution": {
     "iopub.execute_input": "2023-03-29T13:00:01.285678Z",
     "iopub.status.busy": "2023-03-29T13:00:01.285035Z",
     "iopub.status.idle": "2023-03-29T13:00:01.512237Z",
     "shell.execute_reply": "2023-03-29T13:00:01.510634Z",
     "shell.execute_reply.started": "2023-03-29T13:00:01.285626Z"
    }
   },
   "outputs": [],
   "source": [
    "# BIVARIATE ANALYSIS OF segment and referal\n",
    "# Group the data by segment, and calculate the count of each referal group\n",
    "grouped = df.groupby(['Segment'])['Referal'].value_counts().unstack(fill_value=0)\n",
    "\n",
    "# Plot the stacked bar chart\n",
    "grouped.plot(kind='bar', color=['magenta', 'purple'], stacked=True)\n",
    "\n",
    "# Add axis labels and title\n",
    "plt.xlabel('Segment')\n",
    "plt.ylabel('Count')\n",
    "plt.title('Segment Distribution by Referal')\n",
    "\n",
    "# Show the plot\n",
    "plt.show()"
   ]
  },
  {
   "cell_type": "code",
   "execution_count": null,
   "metadata": {
    "execution": {
     "iopub.execute_input": "2023-03-29T12:25:07.108099Z",
     "iopub.status.busy": "2023-03-29T12:25:07.106667Z",
     "iopub.status.idle": "2023-03-29T12:25:07.397073Z",
     "shell.execute_reply": "2023-03-29T12:25:07.395766Z",
     "shell.execute_reply.started": "2023-03-29T12:25:07.108042Z"
    }
   },
   "outputs": [],
   "source": [
    "# BIVARIATE ANALYSIS OF employees status and marital status\n",
    "# Group the data by employees status, and calculate the count of each marital status\n",
    "grouped = df.groupby(['Employees_status'])['Marital_status'].value_counts().unstack(fill_value=0)\n",
    "\n",
    "# Plot the stacked bar chart\n",
    "grouped.plot(kind='bar', color=['red', 'yellow'], stacked=True)\n",
    "\n",
    "# Add axis labels and title\n",
    "plt.xlabel('Employees Status')\n",
    "plt.ylabel('Count')\n",
    "plt.title('Employees Distribution by Marital Status')\n",
    "\n",
    "# Show the plot\n",
    "plt.show()"
   ]
  },
  {
   "cell_type": "code",
   "execution_count": null,
   "metadata": {
    "execution": {
     "iopub.execute_input": "2023-03-29T12:29:38.793555Z",
     "iopub.status.busy": "2023-03-29T12:29:38.793024Z",
     "iopub.status.idle": "2023-03-29T12:29:39.071133Z",
     "shell.execute_reply": "2023-03-29T12:29:39.069718Z",
     "shell.execute_reply.started": "2023-03-29T12:29:38.793507Z"
    }
   },
   "outputs": [],
   "source": [
    "# BIVARIATE ANALYSIS OF employees status and gender\n",
    "# Group the data by employees status, and calculate the count of each gender group\n",
    "grouped = df.groupby(['Employees_status'])['Gender'].value_counts().unstack(fill_value=0)\n",
    "\n",
    "# Plot the stacked bar chart\n",
    "grouped.plot(kind='bar', color=['pink', 'grey'], stacked=True)\n",
    "\n",
    "# Add axis labels and title\n",
    "plt.xlabel('Employees status')\n",
    "plt.ylabel('Count')\n",
    "plt.title('Employees Distribution by Gender')\n",
    "\n",
    "# Show the plot\n",
    "plt.show()"
   ]
  },
  {
   "cell_type": "code",
   "execution_count": null,
   "metadata": {
    "execution": {
     "iopub.execute_input": "2023-03-29T12:29:23.274684Z",
     "iopub.status.busy": "2023-03-29T12:29:23.273139Z",
     "iopub.status.idle": "2023-03-29T12:29:23.555678Z",
     "shell.execute_reply": "2023-03-29T12:29:23.554127Z",
     "shell.execute_reply.started": "2023-03-29T12:29:23.274621Z"
    }
   },
   "outputs": [],
   "source": [
    "# BIVARIATE ANALYSIS OF employee status and referal\n",
    "# Group the data by employees status, and calculate the count of each referal group\n",
    "grouped = df.groupby(['Employees_status'])['Referal'].value_counts().unstack(fill_value=0)\n",
    "\n",
    "# Plot the stacked bar chart\n",
    "grouped.plot(kind='bar', color=['indigo', 'violet'], stacked=True)\n",
    "\n",
    "# Add axis labels and title\n",
    "plt.xlabel('Employees status')\n",
    "plt.ylabel('Count')\n",
    "plt.title('Employees Distribution by Referal')\n",
    "\n",
    "# Show the plot\n",
    "plt.show()"
   ]
  },
  {
   "cell_type": "code",
   "execution_count": null,
   "metadata": {
    "execution": {
     "iopub.execute_input": "2023-03-29T12:27:30.437942Z",
     "iopub.status.busy": "2023-03-29T12:27:30.437359Z",
     "iopub.status.idle": "2023-03-29T12:27:30.686204Z",
     "shell.execute_reply": "2023-03-29T12:27:30.684795Z",
     "shell.execute_reply.started": "2023-03-29T12:27:30.437884Z"
    }
   },
   "outputs": [],
   "source": [
    "# BIVARIATE ANALYSIS OF payment method and marital status\n",
    "# Group the data by payment method, and calculate the count of each marital status\n",
    "grouped = df.groupby(['Payment_method'])['Marital_status'].value_counts().unstack(fill_value=0)\n",
    "\n",
    "# Plot the stacked bar chart\n",
    "grouped.plot(kind='bar', color=['cyan', 'blue'], stacked=True)\n",
    "\n",
    "# Add axis labels and title\n",
    "plt.xlabel('Payment Method')\n",
    "plt.ylabel('Count')\n",
    "plt.title('Payment Distribution by Marital Status')\n",
    "\n",
    "# Show the plot\n",
    "plt.show()"
   ]
  },
  {
   "cell_type": "code",
   "execution_count": null,
   "metadata": {
    "execution": {
     "iopub.execute_input": "2023-03-29T12:28:05.275701Z",
     "iopub.status.busy": "2023-03-29T12:28:05.274121Z",
     "iopub.status.idle": "2023-03-29T12:28:05.533226Z",
     "shell.execute_reply": "2023-03-29T12:28:05.532009Z",
     "shell.execute_reply.started": "2023-03-29T12:28:05.275626Z"
    }
   },
   "outputs": [],
   "source": [
    "# BIVARIATE ANALYSIS OF payment method and gender\n",
    "# Group the data by payment, and calculate the count of each gender group\n",
    "grouped = df.groupby(['Payment_method'])['Gender'].value_counts().unstack(fill_value=0)\n",
    "\n",
    "# Plot the stacked bar chart\n",
    "grouped.plot(kind='bar', color=['brown', 'yellow'], stacked=True)\n",
    "\n",
    "# Add axis labels and title\n",
    "plt.xlabel('Payment Method')\n",
    "plt.ylabel('Count')\n",
    "plt.title('Payment method Distribution by Gender')\n",
    "\n",
    "# Show the plot\n",
    "plt.show()"
   ]
  },
  {
   "cell_type": "code",
   "execution_count": null,
   "metadata": {
    "execution": {
     "iopub.execute_input": "2023-03-29T12:28:49.494488Z",
     "iopub.status.busy": "2023-03-29T12:28:49.492985Z",
     "iopub.status.idle": "2023-03-29T12:28:49.74396Z",
     "shell.execute_reply": "2023-03-29T12:28:49.742159Z",
     "shell.execute_reply.started": "2023-03-29T12:28:49.494421Z"
    }
   },
   "outputs": [],
   "source": [
    "# BIVARIATE ANALYSIS OF payment method and referal\n",
    "# Group the data by payment, and calculate the count of each referal group\n",
    "grouped = df.groupby(['Payment_method'])['Referal'].value_counts().unstack(fill_value=0)\n",
    "\n",
    "# Plot the stacked bar chart\n",
    "grouped.plot(kind='bar', color=['grey', 'black'], stacked=True)\n",
    "\n",
    "# Add axis labels and title\n",
    "plt.xlabel('Payment Method')\n",
    "plt.ylabel('Count')\n",
    "plt.title('Payment method Distribution by Referal')\n",
    "\n",
    "# Show the plot\n",
    "plt.show()"
   ]
  },
  {
   "cell_type": "code",
   "execution_count": null,
   "metadata": {
    "execution": {
     "iopub.execute_input": "2023-03-29T12:05:08.286091Z",
     "iopub.status.busy": "2023-03-29T12:05:08.285536Z",
     "iopub.status.idle": "2023-03-29T12:05:08.518636Z",
     "shell.execute_reply": "2023-03-29T12:05:08.517085Z",
     "shell.execute_reply.started": "2023-03-29T12:05:08.286042Z"
    }
   },
   "outputs": [],
   "source": [
    "# BIVARIATE ANALYSIS OF segment and amount spent\n",
    "# Create a bar chart of the amount spent by segment\n",
    "segment_amounts = df.groupby('Segment')['Amount_spent'].sum()\n",
    "segment_amounts.plot(kind='bar', xlabel='Segment', ylabel='Amount Spent', title='Amount Spent by Segment', color='purple')\n",
    "plt.show()"
   ]
  },
  {
   "cell_type": "code",
   "execution_count": null,
   "metadata": {
    "execution": {
     "iopub.execute_input": "2023-03-29T13:00:57.178875Z",
     "iopub.status.busy": "2023-03-29T13:00:57.178383Z",
     "iopub.status.idle": "2023-03-29T13:00:58.007306Z",
     "shell.execute_reply": "2023-03-29T13:00:58.005997Z",
     "shell.execute_reply.started": "2023-03-29T13:00:57.178833Z"
    }
   },
   "outputs": [],
   "source": [
    "# BIVARIATE ANALYSIS OF state and amount spent\n",
    "# Create a bar chart of the amount spent by state\n",
    "segment_amounts = df.groupby('State_names')['Amount_spent'].sum().sort_values(ascending=False)\n",
    "segment_amounts.plot(kind='bar', xlabel='State', ylabel='Amount Spent', figsize=(10,6), title='Amount Spent by State', color='cyan')\n",
    "plt.show()"
   ]
  },
  {
   "cell_type": "code",
   "execution_count": null,
   "metadata": {},
   "outputs": [],
   "source": []
  }
 ],
 "metadata": {
  "kernelspec": {
   "display_name": "Python 3",
   "language": "python",
   "name": "python3"
  },
  "language_info": {
   "codemirror_mode": {
    "name": "ipython",
    "version": 3
   },
   "file_extension": ".py",
   "mimetype": "text/x-python",
   "name": "python",
   "nbconvert_exporter": "python",
   "pygments_lexer": "ipython3",
   "version": "3.8.6"
  }
 },
 "nbformat": 4,
 "nbformat_minor": 4
}
